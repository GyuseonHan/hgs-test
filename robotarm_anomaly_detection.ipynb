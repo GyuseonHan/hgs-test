{
 "cells": [
  {
   "cell_type": "code",
   "execution_count": null,
   "id": "1e7559cc-50d2-4d3f-89eb-3be460bb0e81",
   "metadata": {
    "canvas": {
     "comments": [],
     "componentType": "CodeCell",
     "copiedOriginId": "d449894a-be84-48f3-928c-bc53fc431083",
     "diskcache": false,
     "headerColor": "transparent",
     "id": "8e39fdc3-9c25-478a-8ff1-b31e0e148739",
     "isComponent": false,
     "name": "",
     "parents": []
    },
    "tags": []
   },
   "outputs": [],
   "source": [
    "# !pip install pandas scikit-learn"
   ]
  },
  {
   "cell_type": "code",
   "execution_count": 2,
   "id": "4109eb30-e731-4361-b808-aae89161ff01",
   "metadata": {
    "canvas": {
     "comments": [],
     "componentType": "CodeCell",
     "copiedOriginId": null,
     "diskcache": true,
     "headerColor": "transparent",
     "id": "55c10414-a2a4-41ae-9c7f-2d20063e9618",
     "isComponent": true,
     "name": "RUNWAY_DATA_PATH",
     "parents": []
    },
    "tags": []
   },
   "outputs": [],
   "source": [
    "import os\n",
    "import pandas as pd\n",
    "\n",
    "dfs = []\n",
    "for dirname, _, filenames in os.walk(RUNWAY_DATA_PATH):\n",
    "    for filename in filenames:\n",
    "        if filename.endswith(\".csv\"):\n",
    "            d = pd.read_csv(os.path.join(dirname, filename))\n",
    "        elif filename.endswith(\".parquet\"):\n",
    "            d = pd.read_parquet(os.path.join(dirname, filename))\n",
    "        else:\n",
    "            raise ValueError(\"Not valid file type\")\n",
    "        dfs += [d]\n",
    "df = pd.concat(dfs)"
   ]
  },
  {
   "cell_type": "code",
   "execution_count": 3,
   "id": "a634d8e3-9395-4d01-ba29-68f0d7d563d4",
   "metadata": {
    "canvas": {
     "comments": [],
     "componentType": "CodeCell",
     "copiedOriginId": null,
     "diskcache": true,
     "headerColor": "transparent",
     "id": "92632143-efe6-46e6-a353-1c0342f03abf",
     "isComponent": true,
     "name": "set data",
     "parents": [
      {
       "id": "55c10414-a2a4-41ae-9c7f-2d20063e9618",
       "name": "RUNWAY_DATA_PATH"
      }
     ]
    },
    "tags": []
   },
   "outputs": [],
   "source": [
    "proc_df = df.set_index(\"datetime\").drop(columns=[\"id\"]).tail(1000)"
   ]
  },
  {
   "cell_type": "code",
   "execution_count": 4,
   "id": "e73ba258-e7f6-46bf-b815-afa9a45808b0",
   "metadata": {
    "canvas": {
     "comments": [],
     "componentType": "CodeCell",
     "copiedOriginId": null,
     "diskcache": true,
     "headerColor": "transparent",
     "id": "49f68d1e-76ae-4fa3-b908-e3ddc01e351e",
     "isComponent": true,
     "name": "split data",
     "parents": [
      {
       "id": "92632143-efe6-46e6-a353-1c0342f03abf",
       "name": "set data"
      }
     ]
    },
    "tags": []
   },
   "outputs": [],
   "source": [
    "from sklearn.model_selection import train_test_split\n",
    "\n",
    "train, valid = train_test_split(proc_df, test_size=0.2, random_state=2024)"
   ]
  },
  {
   "cell_type": "code",
   "execution_count": 1,
   "id": "1b61fe02-bb3c-4b0c-839e-9e3e666468bd",
   "metadata": {
    "canvas": {
     "comments": [],
     "componentType": "CodeCell",
     "copiedOriginId": null,
     "diskcache": true,
     "headerColor": "transparent",
     "id": "61136854-4c61-4355-97c1-1d55a37e53f1",
     "isComponent": true,
     "name": "pca class",
     "parents": []
    },
    "tags": []
   },
   "outputs": [],
   "source": [
    "import mlflow\n",
    "import pandas as pd\n",
    "from sklearn.decomposition import PCA\n",
    "from sklearn.preprocessing import StandardScaler\n",
    "\n",
    "\n",
    "class PCADetector(mlflow.pyfunc.PythonModel):\n",
    "    def __init__(self, n_components):\n",
    "        self._use_columns = ...\n",
    "        self._scaler = StandardScaler()\n",
    "        self._pca = PCA(n_components=n_components)\n",
    "\n",
    "    def fit(self, X):\n",
    "        self._use_columns = X.columns\n",
    "        X_scaled = self._scaler.fit_transform(X)\n",
    "        self._pca.fit(X_scaled)\n",
    "\n",
    "    def predict(self, context, X):\n",
    "        X = X[self._use_columns]\n",
    "        X_scaled = self._scaler.transform(X)\n",
    "        recon = self._recon(X_scaled)\n",
    "        recon_err = ((X_scaled - recon) ** 2).mean(1)\n",
    "        recon_err_df = pd.DataFrame(recon_err, columns=[\"anomaly_score\"], index=X.index)\n",
    "        return recon_err_df\n",
    "\n",
    "    def _recon(self, X):\n",
    "        z = self._pca.transform(X)\n",
    "        recon = self._pca.inverse_transform(z)\n",
    "        return recon\n",
    "\n",
    "    def reconstruct(self, X):\n",
    "        X_scaled = self._scaler.transform(X)\n",
    "        recon_scaled = self._recon(X_scaled)\n",
    "        recon = self._scaler.inverse_transform(recon_scaled)\n",
    "        recon_df = pd.DataFrame(recon, index=X.index, columns=X.columns)\n",
    "        return recon_df"
   ]
  },
  {
   "cell_type": "code",
   "execution_count": 5,
   "id": "d7468de9-8268-442c-9719-bf7985dbe623",
   "metadata": {
    "canvas": {
     "comments": [],
     "componentType": "CodeCell",
     "copiedOriginId": null,
     "diskcache": true,
     "headerColor": "transparent",
     "id": "a29040ce-ec07-419e-aec7-1a303371d356",
     "isComponent": true,
     "name": "train",
     "parents": [
      {
       "id": "61136854-4c61-4355-97c1-1d55a37e53f1",
       "name": "pca class"
      },
      {
       "id": "49f68d1e-76ae-4fa3-b908-e3ddc01e351e",
       "name": "split data"
      }
     ]
    },
    "tags": []
   },
   "outputs": [],
   "source": [
    "parameters = {\"n_components\": N_COMPONENTS}\n",
    "detector = PCADetector(n_components=parameters[\"n_components\"])\n",
    "detector.fit(train)\n",
    "\n",
    "train_pred = detector.predict(None, train)\n",
    "valid_pred = detector.predict(None, valid)\n",
    "\n",
    "mean_train_recon_err = train_pred.mean()\n",
    "mean_valid_recon_err = valid_pred.mean()"
   ]
  },
  {
   "cell_type": "code",
   "execution_count": 6,
   "id": "db3f5fe0-e787-4242-adeb-cf960355d965",
   "metadata": {
    "canvas": {
     "comments": [],
     "componentType": "CodeCell",
     "copiedOriginId": null,
     "diskcache": false,
     "headerColor": "transparent",
     "id": "e412ec17-99ef-4e21-9b0d-850a907f0e5f",
     "isComponent": true,
     "name": "send model to runway",
     "parents": [
      {
       "id": "a29040ce-ec07-419e-aec7-1a303371d356",
       "name": "train"
      }
     ]
    },
    "tags": []
   },
   "outputs": [
    {
     "name": "stderr",
     "output_type": "stream",
     "text": [
      "/usr/local/lib/python3.10/dist-packages/mlflow/tracking/metric_value_conversion_utils.py:52: FutureWarning: Calling float on a single element Series is deprecated and will raise a TypeError in the future. Use float(ser.iloc[0]) instead\n",
      "  return float(x)\n",
      "2024/08/27 04:57:57 WARNING mlflow.pyfunc: Detected one or more mismatches between the model's dependencies and the current Python environment:\n",
      " - mlflow (current: 2.4.1, required: mlflow==2.4)\n",
      "To fix the mismatches, call `mlflow.pyfunc.get_model_dependencies(model_uri)` to fetch the model's environment and install dependencies using the resulting environment file.\n"
     ]
    }
   ],
   "source": [
    "import mlflow\n",
    "import runway\n",
    "\n",
    "with mlflow.start_run():\n",
    "    mlflow.log_params(parameters)\n",
    "\n",
    "    mlflow.log_metric(\"mean_train_recon_err\", mean_train_recon_err)\n",
    "    mlflow.log_metric(\"mean_valid_recon_err\", mean_valid_recon_err)\n",
    "\n",
    "    runway.log_modbel(\n",
    "        model=detector,\n",
    "        input_samples={\"predict\": proc_df.sample(1)},\n",
    "        model_name=\"pca-model\",\n",
    "    )"
   ]
  },
  {
   "cell_type": "code",
   "execution_count": 1,
   "id": "cd0ede05-5f6b-43ea-89f6-6a865fc093da",
   "metadata": {
    "canvas": {
     "comments": [],
     "componentType": "CodeCell",
     "copiedOriginId": null,
     "diskcache": false,
     "headerColor": "transparent",
     "id": "263d9827-e785-45be-99cb-5eeab30eeef1",
     "isComponent": false,
     "name": "",
     "parents": []
    }
   },
   "outputs": [
    {
     "name": "stdout",
     "output_type": "stream",
     "text": [
      "['/usr/lib/python38.zip', '/usr/lib/python3.8', '/usr/lib/python3.8/lib-dynload', '', '/usr/local/lib/python3.8/dist-packages', '/usr/lib/python3/dist-packages']\n"
     ]
    }
   ],
   "source": []
  },
  {
   "cell_type": "code",
   "execution_count": null,
   "id": "42a1673f-d625-4485-bf4e-c96b744c8fda",
   "metadata": {
    "canvas": {
     "comments": [],
     "componentType": "CodeCell",
     "copiedOriginId": null,
     "diskcache": false,
     "headerColor": "transparent",
     "id": "4c9cf008-34bb-4f14-b3d1-42233c9c2587",
     "isComponent": false,
     "name": "",
     "parents": []
    }
   },
   "outputs": [],
   "source": []
  }
 ],
 "metadata": {
  "canvas": {
   "colorPalette": [
    "inherit",
    "inherit",
    "inherit",
    "inherit",
    "inherit",
    "inherit",
    "inherit",
    "inherit",
    "inherit",
    "inherit"
   ],
   "parameters": [
    {
     "metadata": {
      "dataset_version_id": 977,
      "is_latest": true,
      "resource_id": 846,
      "resource_name": "robotarm",
      "resource_type": "runway_dataset"
     },
     "name": "RUNWAY_DATA_PATH",
     "type": "str",
     "value": "\"/home/jovyan/workspace/dataset/robotarm/latest\""
    },
    {
     "metadata": null,
     "name": "N_COMPONENTS",
     "type": "int",
     "value": "2"
    }
   ],
   "version": "1.0"
  },
  "kernelspec": {
   "display_name": "Python 3 (ipykernel)",
   "language": "python",
   "name": "python3"
  },
  "language_info": {
   "codemirror_mode": {
    "name": "ipython",
    "version": 3
   },
   "file_extension": ".py",
   "mimetype": "text/x-python",
   "name": "python",
   "nbconvert_exporter": "python",
   "pygments_lexer": "ipython3",
   "version": "3.10.13"
  }
 },
 "nbformat": 4,
 "nbformat_minor": 5
}
